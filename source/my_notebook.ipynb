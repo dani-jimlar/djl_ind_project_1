{
 "cells": [
  {
   "cell_type": "markdown",
   "metadata": {},
   "source": [
    "## Mexican inmate population in state prisions"
   ]
  },
  {
   "cell_type": "code",
   "execution_count": 1,
   "metadata": {},
   "outputs": [],
   "source": [
    "#import sys\n",
    "#sys.path.append('source')\n",
    "import lib\n",
    "\n",
    "import pandas as pd\n",
    "#import seaborn as sns\n",
    "import matplotlib.pyplot as plt"
   ]
  },
  {
   "cell_type": "markdown",
   "metadata": {},
   "source": [
    "- functions: functions from source/main are used to generate and create descriptive analtics for selected data set. \n",
    "- data set: imp_edos_2.csv, located in source. \n",
    "    - imp_edos_2 is a data set with information about Mexican inmates in state prisons by age group. "
   ]
  },
  {
   "cell_type": "code",
   "execution_count": 2,
   "metadata": {},
   "outputs": [],
   "source": [
    "my_data = pd.read_csv(\"imp_edos_2.csv\", encoding=\"ISO-8859-1\")\n"
   ]
  },
  {
   "cell_type": "markdown",
   "metadata": {},
   "source": [
    "This function prints the descriptive statistics for all the variables(columns) in the dataset"
   ]
  },
  {
   "cell_type": "code",
   "execution_count": 3,
   "metadata": {},
   "outputs": [
    {
     "name": "stdout",
     "output_type": "stream",
     "text": [
      "The variables in this data set are the following: ['entidad_a', 'enticve1', 'rangedad_a', 'sexostt', 'sexos1', 'sexos2', 'descrip']\n",
      "The variables behave as follows:         entidad_a    enticve1  rangedad_a       sexostt        sexos1  \\\n",
      "count  310.000000  310.000000  310.000000    310.000000    310.000000   \n",
      "mean    16.812903   16.812903    5.790323    740.564516    653.358065   \n",
      "std      9.200244    9.200244    6.036934   1958.968172   1720.754210   \n",
      "min      1.000000    1.000000    1.000000      0.000000      0.000000   \n",
      "25%      9.000000    9.000000    3.000000     60.250000     50.000000   \n",
      "50%     17.000000   17.000000    5.500000    185.500000    167.000000   \n",
      "75%     25.000000   25.000000    8.000000    468.000000    402.500000   \n",
      "max     32.000000   32.000000   99.000000  22782.000000  19580.000000   \n",
      "\n",
      "            sexos2  \n",
      "count   310.000000  \n",
      "mean     87.206452  \n",
      "std     244.881299  \n",
      "min       0.000000  \n",
      "25%       7.000000  \n",
      "50%      21.000000  \n",
      "75%      61.750000  \n",
      "max    3202.000000  \n"
     ]
    }
   ],
   "source": [
    "lib.print_ds_info(my_data)"
   ]
  },
  {
   "cell_type": "markdown",
   "metadata": {},
   "source": [
    "These functions print the descriptive statistics of just one variable:"
   ]
  },
  {
   "cell_type": "code",
   "execution_count": 4,
   "metadata": {},
   "outputs": [
    {
     "ename": "NameError",
     "evalue": "name 'print_mean' is not defined",
     "output_type": "error",
     "traceback": [
      "\u001b[0;31m---------------------------------------------------------------------------\u001b[0m",
      "\u001b[0;31mNameError\u001b[0m                                 Traceback (most recent call last)",
      "\u001b[1;32m/workspaces/djl_ind_project_1/source/my_notebook.ipynb Cell 8\u001b[0m line \u001b[0;36m3\n\u001b[1;32m      <a href='vscode-notebook-cell://codespaces%2Bglorious-space-waddle-69gp4v99776qcr4vw/workspaces/djl_ind_project_1/source/my_notebook.ipynb#X10sdnNjb2RlLXJlbW90ZQ%3D%3D?line=0'>1</a>\u001b[0m sel_data\u001b[39m=\u001b[39mmy_data\u001b[39m.\u001b[39miloc[:,\u001b[39m3\u001b[39m]\n\u001b[0;32m----> <a href='vscode-notebook-cell://codespaces%2Bglorious-space-waddle-69gp4v99776qcr4vw/workspaces/djl_ind_project_1/source/my_notebook.ipynb#X10sdnNjb2RlLXJlbW90ZQ%3D%3D?line=2'>3</a>\u001b[0m print_mean(sel_data)\n\u001b[1;32m      <a href='vscode-notebook-cell://codespaces%2Bglorious-space-waddle-69gp4v99776qcr4vw/workspaces/djl_ind_project_1/source/my_notebook.ipynb#X10sdnNjb2RlLXJlbW90ZQ%3D%3D?line=4'>5</a>\u001b[0m print_median(sel_data)\n\u001b[1;32m      <a href='vscode-notebook-cell://codespaces%2Bglorious-space-waddle-69gp4v99776qcr4vw/workspaces/djl_ind_project_1/source/my_notebook.ipynb#X10sdnNjb2RlLXJlbW90ZQ%3D%3D?line=6'>7</a>\u001b[0m print_max(sel_data)\n",
      "\u001b[0;31mNameError\u001b[0m: name 'print_mean' is not defined"
     ]
    }
   ],
   "source": [
    "sel_data=my_data.iloc[:,3]\n",
    "\n",
    "print_mean(sel_data)\n",
    "\n",
    "print_median(sel_data)\n",
    "\n",
    "print_max(sel_data)\n",
    "\n",
    "print_min(sel_data)\n",
    "\n",
    "print_1_qt(sel_data)\n",
    "\n",
    "print_3_qt(sel_data)"
   ]
  },
  {
   "cell_type": "markdown",
   "metadata": {},
   "source": [
    "This function generates a data vis using matplotlib"
   ]
  },
  {
   "cell_type": "code",
   "execution_count": null,
   "metadata": {},
   "outputs": [],
   "source": [
    "lib.view_data_vis(my_data)"
   ]
  }
 ],
 "metadata": {
  "kernelspec": {
   "display_name": "Python 3",
   "language": "python",
   "name": "python3"
  },
  "language_info": {
   "codemirror_mode": {
    "name": "ipython",
    "version": 3
   },
   "file_extension": ".py",
   "mimetype": "text/x-python",
   "name": "python",
   "nbconvert_exporter": "python",
   "pygments_lexer": "ipython3",
   "version": "3.10.8"
  },
  "orig_nbformat": 4
 },
 "nbformat": 4,
 "nbformat_minor": 2
}
